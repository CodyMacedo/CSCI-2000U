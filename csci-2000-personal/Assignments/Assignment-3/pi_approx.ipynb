{
 "cells": [
  {
   "cell_type": "code",
   "execution_count": 1,
   "metadata": {
    "collapsed": true
   },
   "outputs": [],
   "source": [
    "# Cody Macedo\n",
    "# 100486136\n",
    "\n",
    "import numpy as np\n"
   ]
  },
  {
   "cell_type": "code",
   "execution_count": 14,
   "metadata": {
    "collapsed": false
   },
   "outputs": [],
   "source": [
    "def rho_n(num_of_iter):\n",
    "    sum_list = []\n",
    "    for n in range(1, num_of_iter + 1):\n",
    "        denom = 2 * n - 1\n",
    "        numer = (-1) ** (n+1)\n",
    "        sum_list.append(numer/denom)\n",
    "    return 4 * np.sum(sum_list)"
   ]
  },
  {
   "cell_type": "code",
   "execution_count": 17,
   "metadata": {
    "collapsed": false
   },
   "outputs": [],
   "source": [
    "def tau_n(num_of_iter):\n",
    "    sum_list = []\n",
    "    for n in range(1, num_of_iter + 1):\n",
    "        denom = n ** 2\n",
    "        sum_list.append(1/denom)\n",
    "    return (6 * np.sum(sum_list)) ** (1/2)"
   ]
  },
  {
   "cell_type": "code",
   "execution_count": 18,
   "metadata": {
    "collapsed": true
   },
   "outputs": [],
   "source": [
    "def mu_n(num_of_iter):\n",
    "    sum_list = []\n",
    "    for n in range(1, num_of_iter + 1):\n",
    "        denom = n ** 4\n",
    "        sum_list.append(1/denom)\n",
    "    return (90 * np.sum(sum_list)) ** (1/4)"
   ]
  },
  {
   "cell_type": "code",
   "execution_count": 23,
   "metadata": {
    "collapsed": false
   },
   "outputs": [
    {
     "name": "stdout",
     "output_type": "stream",
     "text": [
      "When n =      10, rho_n = 3.04183961893\n",
      "When n =      10, tau_n = 3.04936163598\n",
      "When n =      10,  mu_n = 3.14138462247\n",
      "When n =     100, rho_n = 3.13159290356\n",
      "When n =     100, tau_n = 3.13207653181\n",
      "When n =     100,  mu_n = 3.14159241531\n",
      "When n =    1000, rho_n = 3.14059265384\n",
      "When n =    1000, tau_n = 3.14063805621\n",
      "When n =    1000,  mu_n = 3.14159265335\n",
      "When n =   10000, rho_n = 3.14149265359\n",
      "When n =   10000, tau_n = 3.14149716395\n",
      "When n =   10000,  mu_n = 3.14159265359\n",
      "When n =  100000, rho_n = 3.14158265359\n",
      "When n =  100000, tau_n = 3.14158310433\n",
      "When n =  100000,  mu_n = 3.14159265359\n",
      "When n = 1000000, rho_n = 3.14159165359\n",
      "When n = 1000000, tau_n = 3.14159169866\n",
      "When n = 1000000,  mu_n = 3.14159265359\n"
     ]
    }
   ],
   "source": [
    "for n in range(1, 7):\n",
    "    for func in [rho_n, tau_n, mu_n]:\n",
    "        print('When n = %7d, %5s = %13.11f' \n",
    "               % (10 ** n, func.__name__, func(10 ** n)))"
   ]
  },
  {
   "cell_type": "code",
   "execution_count": null,
   "metadata": {
    "collapsed": true
   },
   "outputs": [],
   "source": []
  }
 ],
 "metadata": {
  "kernelspec": {
   "display_name": "Python 3",
   "language": "python",
   "name": "python3"
  },
  "language_info": {
   "codemirror_mode": {
    "name": "ipython",
    "version": 3
   },
   "file_extension": ".py",
   "mimetype": "text/x-python",
   "name": "python",
   "nbconvert_exporter": "python",
   "pygments_lexer": "ipython3",
   "version": "3.4.3"
  }
 },
 "nbformat": 4,
 "nbformat_minor": 0
}
