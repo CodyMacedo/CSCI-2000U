{
 "cells": [
  {
   "cell_type": "code",
   "execution_count": null,
   "metadata": {
    "collapsed": true
   },
   "outputs": [],
   "source": [
    "# Cody Macedo\n",
    "# 100486136\n",
    "\n",
    "%matplotlib inline\n",
    "import numpy as np\n",
    "import matplotlib.pyplot as plt"
   ]
  },
  {
   "cell_type": "code",
   "execution_count": null,
   "metadata": {
    "collapsed": true
   },
   "outputs": [],
   "source": [
    "\n",
    "dt = np.dtype([('year', int), ('month', int), ('day', int), ('date', float), ('spots', int), ('unofficial', int)])\n",
    "\n",
    "data = np.recfromcsv('ISSN_D_tot.csv', delimiter=',', dtype=dt)\n"
   ]
  },
  {
   "cell_type": "code",
   "execution_count": null,
   "metadata": {
    "collapsed": false
   },
   "outputs": [],
   "source": [
    "mean = np.mean(data['spots'])\n",
    "med = np.median(data['spots'])\n",
    "std = np.std(data['spots'])\n",
    "\n",
    "print(\"The most recent sunspot observations were on %i-%i-%i.\" % (data['year'][72103], data['month'][72103], data['day'][72103]))\n",
    "print(\"Mean: %f\" % mean)\n",
    "print(\"Median: %i\" % med)\n",
    "print(\"Standard deviation: %f\" % std)"
   ]
  },
  {
   "cell_type": "code",
   "execution_count": null,
   "metadata": {
    "collapsed": false
   },
   "outputs": [],
   "source": [
    "plt.figure(figsize=(10,6), dpi=80)\n",
    "\n",
    "plt.xlim(1818, 2014)\n",
    "plt.ylim(0, max(data['spots']))\n",
    "\n",
    "plt.xticks(data['date'])\n",
    "plt.yticks(data['spots'])\n",
    "\n",
    "plt.plot(data['spots'], data['date'], color=\"cyan\", linewidth=2.5, linestyle=\"o\")\n",
    "\n",
    "\n",
    "plt.legend(loc='upper left', frameon=False)\n",
    "\n",
    "plt.plot([med,med],[1818,2014], color ='black', linewidth=2.5, linestyle=\"-\")\n",
    "\n",
    "plt.plot([mean,mean],[1818,2014], color ='blue', linewidth=2.5, linestyle=\"-\")\n",
    "plt.plot([mean+std,mean+std],[1818,2014], color ='magenta', linewidth=2.5, linestyle=\"--\")\n",
    "plt.plot([mean-std,mean-std],[1818,2014], color ='magenta', linewidth=2.5, linestyle=\"--\")\n",
    "\n",
    "plt.show()\n",
    "\n",
    "plt.savefig('sunspot_plot.png',dpi=80)"
   ]
  },
  {
   "cell_type": "code",
   "execution_count": null,
   "metadata": {
    "collapsed": true
   },
   "outputs": [],
   "source": []
  },
  {
   "cell_type": "code",
   "execution_count": null,
   "metadata": {
    "collapsed": true
   },
   "outputs": [],
   "source": []
  }
 ],
 "metadata": {
  "kernelspec": {
   "display_name": "Python 3",
   "language": "python",
   "name": "python3"
  },
  "language_info": {
   "codemirror_mode": {
    "name": "ipython",
    "version": 3
   },
   "file_extension": ".py",
   "mimetype": "text/x-python",
   "name": "python",
   "nbconvert_exporter": "python",
   "pygments_lexer": "ipython3",
   "version": "3.4.3"
  }
 },
 "nbformat": 4,
 "nbformat_minor": 0
}
